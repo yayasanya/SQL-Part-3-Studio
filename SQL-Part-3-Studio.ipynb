{
    "metadata": {
        "kernelspec": {
            "name": "SQL",
            "display_name": "SQL",
            "language": "sql"
        },
        "language_info": {
            "name": "sql",
            "version": ""
        },
        "extensions": {
            "azuredatastudio": {
                "version": 1,
                "views": []
            }
        }
    },
    "nbformat_minor": 2,
    "nbformat": 4,
    "cells": [
        {
            "cell_type": "markdown",
            "source": [
                "# SQL Part 3 Studio\n",
                "\n",
                "### Let's practice your SQL quering skills!  For each question, work along in the notebook adding your query and answering the questions. \n",
                "\n",
                "### **DataSet**\n",
                "\n",
                "### <span style=\"font-size: 14px; font-family: -apple-system, BlinkMacSystemFont, sans-serif;\">We will be using the Goodbooks-10k dataset from the exercises in the prep work.&nbsp; Feel free reference your previous notebooks.</span>\n",
                "\n",
                "- The dataset can be found here: [goodbooks-10k](https://www.kaggle.com/zygmunt/goodbooks-10k)\n",
                "- You can access the **BooksDB** in the Launchcode server.\n",
                "\n",
                "### **Business Issue**\n",
                "\n",
                "You are an employee at a small independet bookstore and you have been tasked to increase sales.  You decide to use the BooksDB to find books and themes to highlight in fun promotions throughout each month / season.  We will be starting with March and then you will have a chance to explore another month of your choosing.  We want to come up with a list of events/ promotions to run each month.  If you are looking for ideas to include in your promotions:\n",
                "\n",
                "- [https://www.calendarr.com/united-states/calendar-2022/](https://www.calendarr.com/united-states/calendar-2022/)\n",
                "- [https://www.holidayinsights.com/moreholidays/](https://www.holidayinsights.com/moreholidays/)\n",
                "    - Click on a month and it will take you to a more detailed page"
            ],
            "metadata": {
                "azdata_cell_guid": "b9034d8a-b631-48bf-a895-1012a6ffa784"
            },
            "attachments": {}
        },
        {
            "cell_type": "markdown",
            "source": [
                "## Part 1:  March - Women's History Month, Dr Seuss Day(3/2), National Pie Day3/14, St Patrick's Day (3/17), Season - Spring"
            ],
            "metadata": {
                "azdata_cell_guid": "6e55eb1c-4a14-4076-90d2-95ed17a6309f"
            },
            "attachments": {}
        },
        {
            "cell_type": "markdown",
            "source": [
                "### **Event 1:** Women's History Month\n",
                "\n",
                "Goal: Highlight Popular Womans Authors based on ratings from the Good Reads DB.\n",
                "\n",
                "### **Write a query that returns tag\\_id, the number of times each tag\\_id is used and the tag\\_name.**  \n",
                "\n",
                "### Use the GROUP BY and HAVING clause to narrow your focus.\n",
                "\n",
                "Try multiple keywords, ie woman vs female (female ended up giving better results)"
            ],
            "metadata": {
                "azdata_cell_guid": "d220c097-e9cf-4edd-9abe-312d071217b7"
            },
            "attachments": {}
        },
        {
            "cell_type": "code",
            "source": [
                "-- Solution\n",
                "SELECT TOP 10 t.tag_id, t.tag_name, SUM(bt.[count]) as Number_of_tags\n",
                "FROM BooksDB.dbo.tags as t \n",
                "LEFT JOIN BooksDB.dbo.book_tags as bt \n",
                "ON t.tag_id=bt.tag_id\n",
                "GROUP BY t.tag_id, t.tag_name\n",
                "HAVING t.tag_name LIKE '%female%author%'\n",
                "    or t.tag_name LIKE '%female%writer%'\n",
                "    or t.tag_name LIKE '%wom_n%writer%'\n",
                "    or t.tag_name LIKE '%wom_n%author%'\n",
                "ORDER BY Number_of_tags DESC\n",
                ""
            ],
            "metadata": {
                "azdata_cell_guid": "e31b9d26-0386-44c7-828e-85f4f06f3ee6",
                "language": "sql"
            },
            "outputs": [
                {
                    "output_type": "display_data",
                    "data": {
                        "text/html": "(10 rows affected)"
                    },
                    "metadata": {}
                },
                {
                    "output_type": "display_data",
                    "data": {
                        "text/html": "Total execution time: 00:00:00.411"
                    },
                    "metadata": {}
                },
                {
                    "output_type": "execute_result",
                    "metadata": {},
                    "execution_count": 7,
                    "data": {
                        "application/vnd.dataresource+json": {
                            "schema": {
                                "fields": [
                                    {
                                        "name": "tag_id"
                                    },
                                    {
                                        "name": "tag_name"
                                    },
                                    {
                                        "name": "Number_of_tags"
                                    }
                                ]
                            },
                            "data": [
                                {
                                    "tag_id": "11643",
                                    "tag_name": "female-author",
                                    "Number_of_tags": "17999"
                                },
                                {
                                    "tag_id": "11644",
                                    "tag_name": "female-authors",
                                    "Number_of_tags": "13690"
                                },
                                {
                                    "tag_id": "32724",
                                    "tag_name": "women-writers",
                                    "Number_of_tags": "5652"
                                },
                                {
                                    "tag_id": "32688",
                                    "tag_name": "women-authors",
                                    "Number_of_tags": "4113"
                                },
                                {
                                    "tag_id": "11662",
                                    "tag_name": "female-writers",
                                    "Number_of_tags": "147"
                                },
                                {
                                    "tag_id": "3476",
                                    "tag_name": "australian-women-writers",
                                    "Number_of_tags": "5"
                                },
                                {
                                    "tag_id": "32679",
                                    "tag_name": "woman-author",
                                    "Number_of_tags": "3"
                                },
                                {
                                    "tag_id": "11661",
                                    "tag_name": "female-writer",
                                    "Number_of_tags": "2"
                                },
                                {
                                    "tag_id": "32682",
                                    "tag_name": "woman-trans-agender-authors",
                                    "Number_of_tags": "2"
                                },
                                {
                                    "tag_id": "15331",
                                    "tag_name": "important-female-authors",
                                    "Number_of_tags": "1"
                                }
                            ]
                        },
                        "text/html": [
                            "<table>",
                            "<tr><th>tag_id</th><th>tag_name</th><th>Number_of_tags</th></tr>",
                            "<tr><td>11643</td><td>female-author</td><td>17999</td></tr>",
                            "<tr><td>11644</td><td>female-authors</td><td>13690</td></tr>",
                            "<tr><td>32724</td><td>women-writers</td><td>5652</td></tr>",
                            "<tr><td>32688</td><td>women-authors</td><td>4113</td></tr>",
                            "<tr><td>11662</td><td>female-writers</td><td>147</td></tr>",
                            "<tr><td>3476</td><td>australian-women-writers</td><td>5</td></tr>",
                            "<tr><td>32679</td><td>woman-author</td><td>3</td></tr>",
                            "<tr><td>11661</td><td>female-writer</td><td>2</td></tr>",
                            "<tr><td>32682</td><td>woman-trans-agender-authors</td><td>2</td></tr>",
                            "<tr><td>15331</td><td>important-female-authors</td><td>1</td></tr>",
                            "</table>"
                        ]
                    }
                }
            ],
            "execution_count": 7
        },
        {
            "cell_type": "markdown",
            "source": [
                "### **Which keyword(s) and tag(s) would you like to explore more?**\n",
                "\n",
                "Double click to edit. tag\\_name='female-author'; tag\\_id=11643"
            ],
            "metadata": {
                "azdata_cell_guid": "e9acd8b5-a62b-4ac0-bd07-19915b379ba6"
            },
            "attachments": {}
        },
        {
            "cell_type": "markdown",
            "source": [
                "### **Write a query to return authors, titles, ratings and** **selected tag(s)\\_id.**"
            ],
            "metadata": {
                "azdata_cell_guid": "59b84464-c0bc-4dac-9e02-0c803765b063"
            },
            "attachments": {}
        },
        {
            "cell_type": "code",
            "source": [
                "-- Solution\n",
                "SELECT TOP 10 bt.tag_id, b.authors, b.title, b.average_rating\n",
                "FROM BooksDB.dbo.book_tags AS bt \n",
                "INNER JOIN BooksDB.dbo.books as b \n",
                "ON bt.goodreads_book_id=b.best_book_id\n",
                "WHERE bt.tag_id=11643\n",
                "ORDER BY b.average_rating desc"
            ],
            "metadata": {
                "azdata_cell_guid": "51ffeaaf-6dde-4906-95f3-eb8757babf27",
                "tags": [],
                "language": "sql"
            },
            "outputs": [
                {
                    "output_type": "display_data",
                    "data": {
                        "text/html": "(10 rows affected)"
                    },
                    "metadata": {}
                },
                {
                    "output_type": "display_data",
                    "data": {
                        "text/html": "Total execution time: 00:00:00.126"
                    },
                    "metadata": {}
                },
                {
                    "output_type": "execute_result",
                    "metadata": {},
                    "execution_count": 12,
                    "data": {
                        "application/vnd.dataresource+json": {
                            "schema": {
                                "fields": [
                                    {
                                        "name": "tag_id"
                                    },
                                    {
                                        "name": "authors"
                                    },
                                    {
                                        "name": "title"
                                    },
                                    {
                                        "name": "average_rating"
                                    }
                                ]
                            },
                            "data": [
                                {
                                    "tag_id": "11643",
                                    "authors": "J.K. Rowling, Mary GrandPré",
                                    "title": "The Harry Potter Collection 1-4 (Harry Potter, #1-4)",
                                    "average_rating": "4.66"
                                },
                                {
                                    "tag_id": "11643",
                                    "authors": "Bisco Hatori",
                                    "title": "Ouran High School Host Club, Vol. 15 (Ouran High School Host Club, #15)",
                                    "average_rating": "4.54"
                                },
                                {
                                    "tag_id": "11643",
                                    "authors": "Robin Hobb",
                                    "title": "Fool's Quest  (The Fitz and The Fool, #2)",
                                    "average_rating": "4.53"
                                },
                                {
                                    "tag_id": "11643",
                                    "authors": "Michelle Alexander",
                                    "title": "The New Jim Crow: Mass Incarceration in the Age of Colorblindness",
                                    "average_rating": "4.49"
                                },
                                {
                                    "tag_id": "11643",
                                    "authors": "Chimamanda Ngozi Adichie",
                                    "title": "We Should All Be Feminists",
                                    "average_rating": "4.47"
                                },
                                {
                                    "tag_id": "11643",
                                    "authors": "Julia Donaldson, Axel Scheffler",
                                    "title": "The Gruffalo",
                                    "average_rating": "4.47"
                                },
                                {
                                    "tag_id": "11643",
                                    "authors": "J.K. Rowling, Mary GrandPré",
                                    "title": "Harry Potter and the Order of the Phoenix (Harry Potter, #5)",
                                    "average_rating": "4.46"
                                },
                                {
                                    "tag_id": "11643",
                                    "authors": "Flannery O'Connor",
                                    "title": "The Complete Stories",
                                    "average_rating": "4.44"
                                },
                                {
                                    "tag_id": "11643",
                                    "authors": "Lois McMaster Bujold",
                                    "title": "A Civil Campaign (Vorkosigan Saga, #12)",
                                    "average_rating": "4.43"
                                },
                                {
                                    "tag_id": "11643",
                                    "authors": "Yaa Gyasi",
                                    "title": "Homegoing",
                                    "average_rating": "4.41"
                                }
                            ]
                        },
                        "text/html": [
                            "<table>",
                            "<tr><th>tag_id</th><th>authors</th><th>title</th><th>average_rating</th></tr>",
                            "<tr><td>11643</td><td>J.K. Rowling, Mary GrandPré</td><td>The Harry Potter Collection 1-4 (Harry Potter, #1-4)</td><td>4.66</td></tr>",
                            "<tr><td>11643</td><td>Bisco Hatori</td><td>Ouran High School Host Club, Vol. 15 (Ouran High School Host Club, #15)</td><td>4.54</td></tr>",
                            "<tr><td>11643</td><td>Robin Hobb</td><td>Fool&#39;s Quest  (The Fitz and The Fool, #2)</td><td>4.53</td></tr>",
                            "<tr><td>11643</td><td>Michelle Alexander</td><td>The New Jim Crow: Mass Incarceration in the Age of Colorblindness</td><td>4.49</td></tr>",
                            "<tr><td>11643</td><td>Chimamanda Ngozi Adichie</td><td>We Should All Be Feminists</td><td>4.47</td></tr>",
                            "<tr><td>11643</td><td>Julia Donaldson, Axel Scheffler</td><td>The Gruffalo</td><td>4.47</td></tr>",
                            "<tr><td>11643</td><td>J.K. Rowling, Mary GrandPré</td><td>Harry Potter and the Order of the Phoenix (Harry Potter, #5)</td><td>4.46</td></tr>",
                            "<tr><td>11643</td><td>Flannery O&#39;Connor</td><td>The Complete Stories</td><td>4.44</td></tr>",
                            "<tr><td>11643</td><td>Lois McMaster Bujold</td><td>A Civil Campaign (Vorkosigan Saga, #12)</td><td>4.43</td></tr>",
                            "<tr><td>11643</td><td>Yaa Gyasi</td><td>Homegoing</td><td>4.41</td></tr>",
                            "</table>"
                        ]
                    }
                }
            ],
            "execution_count": 12
        },
        {
            "cell_type": "markdown",
            "source": [
                "### **Record your thoughts about why you wrote the query the way you did.**"
            ],
            "metadata": {
                "azdata_cell_guid": "1e19a72c-1bca-446b-a0c7-a8efbc35dcf1"
            },
            "attachments": {}
        },
        {
            "cell_type": "markdown",
            "source": [
                "# Part 2: Choose Another Month\n",
                "\n",
                "Choose another month and plan at least 2 events / promotions and answer the following questions.\n",
                "\n",
                "Which month did you choose?  \n",
                "\n",
                "What 2 events / promotions are you highlighting?\n",
                "\n",
                "> 1. May\n",
                "\n",
                "> 2. Mystery month, Bike month"
            ],
            "metadata": {
                "azdata_cell_guid": "3eaf376d-9de3-4553-a9d0-9caf74ee3d6a"
            },
            "attachments": {}
        },
        {
            "cell_type": "markdown",
            "source": [
                "# Part 3: Summarize your Work\n",
                "\n",
                "For each event write at least one query that joins any two tables in the BooksDB to support your choice and record you thoughts as to why you used the paticlular query. At least one of your queries needs to include a HAVING clause."
            ],
            "metadata": {
                "azdata_cell_guid": "1ba1363a-4f02-4962-a95a-93b80c5926b1"
            },
            "attachments": {}
        },
        {
            "cell_type": "code",
            "source": [
                "-- Event 1 Query\n",
                "SELECT TOP 10 t.tag_id, t.tag_name, SUM(bt.[count]) as Number_of_tags\n",
                "FROM BooksDB.dbo.tags as t \n",
                "LEFT JOIN BooksDB.dbo.book_tags as bt \n",
                "ON t.tag_id=bt.tag_id\n",
                "GROUP BY t.tag_id, t.tag_name\n",
                "HAVING t.tag_name LIKE '%mystery%'\n",
                "ORDER BY Number_of_tags DESC"
            ],
            "metadata": {
                "azdata_cell_guid": "f50d32ce-4cb2-4af2-acb1-607777a76cf8",
                "language": "sql"
            },
            "outputs": [
                {
                    "output_type": "display_data",
                    "data": {
                        "text/html": "(10 rows affected)"
                    },
                    "metadata": {}
                },
                {
                    "output_type": "display_data",
                    "data": {
                        "text/html": "Total execution time: 00:00:00.313"
                    },
                    "metadata": {}
                },
                {
                    "output_type": "execute_result",
                    "metadata": {},
                    "execution_count": 6,
                    "data": {
                        "application/vnd.dataresource+json": {
                            "schema": {
                                "fields": [
                                    {
                                        "name": "tag_id"
                                    },
                                    {
                                        "name": "tag_name"
                                    },
                                    {
                                        "name": "Number_of_tags"
                                    }
                                ]
                            },
                            "data": [
                                {
                                    "tag_id": "20939",
                                    "tag_name": "mystery",
                                    "Number_of_tags": "872282"
                                },
                                {
                                    "tag_id": "20994",
                                    "tag_name": "mystery-thriller",
                                    "Number_of_tags": "98215"
                                },
                                {
                                    "tag_id": "20989",
                                    "tag_name": "mystery-suspense",
                                    "Number_of_tags": "46608"
                                },
                                {
                                    "tag_id": "20957",
                                    "tag_name": "mystery-crime",
                                    "Number_of_tags": "20852"
                                },
                                {
                                    "tag_id": "8533",
                                    "tag_name": "crime-mystery",
                                    "Number_of_tags": "20692"
                                },
                                {
                                    "tag_id": "20662",
                                    "tag_name": "murder-mystery",
                                    "Number_of_tags": "15946"
                                },
                                {
                                    "tag_id": "30373",
                                    "tag_name": "thriller-mystery",
                                    "Number_of_tags": "8820"
                                },
                                {
                                    "tag_id": "21003",
                                    "tag_name": "mystery-thrillers",
                                    "Number_of_tags": "6003"
                                },
                                {
                                    "tag_id": "8429",
                                    "tag_name": "cozy-mystery",
                                    "Number_of_tags": "5991"
                                },
                                {
                                    "tag_id": "21001",
                                    "tag_name": "mystery-thriller-suspense",
                                    "Number_of_tags": "4464"
                                }
                            ]
                        },
                        "text/html": [
                            "<table>",
                            "<tr><th>tag_id</th><th>tag_name</th><th>Number_of_tags</th></tr>",
                            "<tr><td>20939</td><td>mystery</td><td>872282</td></tr>",
                            "<tr><td>20994</td><td>mystery-thriller</td><td>98215</td></tr>",
                            "<tr><td>20989</td><td>mystery-suspense</td><td>46608</td></tr>",
                            "<tr><td>20957</td><td>mystery-crime</td><td>20852</td></tr>",
                            "<tr><td>8533</td><td>crime-mystery</td><td>20692</td></tr>",
                            "<tr><td>20662</td><td>murder-mystery</td><td>15946</td></tr>",
                            "<tr><td>30373</td><td>thriller-mystery</td><td>8820</td></tr>",
                            "<tr><td>21003</td><td>mystery-thrillers</td><td>6003</td></tr>",
                            "<tr><td>8429</td><td>cozy-mystery</td><td>5991</td></tr>",
                            "<tr><td>21001</td><td>mystery-thriller-suspense</td><td>4464</td></tr>",
                            "</table>"
                        ]
                    }
                }
            ],
            "execution_count": 6
        },
        {
            "cell_type": "code",
            "source": [
                "SELECT TOP 20 bt.tag_id, b.best_book_id, b.authors, b.title, b.average_rating\n",
                "FROM BooksDB.dbo.book_tags as bt \n",
                "INNER JOIN BooksDB.dbo.books as b\n",
                "ON bt.goodreads_book_id=b.best_book_id\n",
                "WHERE bt.tag_id=20939\n",
                "ORDER BY b.average_rating DESC"
            ],
            "metadata": {
                "azdata_cell_guid": "5606f7f2-c46b-42d3-ac64-7ae21c3394f8",
                "language": "sql"
            },
            "outputs": [
                {
                    "output_type": "display_data",
                    "data": {
                        "text/html": "(20 rows affected)"
                    },
                    "metadata": {}
                },
                {
                    "output_type": "display_data",
                    "data": {
                        "text/html": "Total execution time: 00:00:00.141"
                    },
                    "metadata": {}
                },
                {
                    "output_type": "execute_result",
                    "metadata": {},
                    "execution_count": 14,
                    "data": {
                        "application/vnd.dataresource+json": {
                            "schema": {
                                "fields": [
                                    {
                                        "name": "tag_id"
                                    },
                                    {
                                        "name": "best_book_id"
                                    },
                                    {
                                        "name": "authors"
                                    },
                                    {
                                        "name": "title"
                                    },
                                    {
                                        "name": "average_rating"
                                    }
                                ]
                            },
                            "data": [
                                {
                                    "tag_id": "20939",
                                    "best_book_id": "8",
                                    "authors": "J.K. Rowling, Mary GrandPré",
                                    "title": "Harry Potter Boxed Set, Books 1-5 (Harry Potter, #1-5)",
                                    "average_rating": "4.77"
                                },
                                {
                                    "tag_id": "20939",
                                    "best_book_id": "862041",
                                    "authors": "J.K. Rowling",
                                    "title": "Harry Potter Boxset (Harry Potter, #1-7)",
                                    "average_rating": "4.74"
                                },
                                {
                                    "tag_id": "20939",
                                    "best_book_id": "10",
                                    "authors": "J.K. Rowling",
                                    "title": "Harry Potter Collection (Harry Potter, #1-6)",
                                    "average_rating": "4.73"
                                },
                                {
                                    "tag_id": "20939",
                                    "best_book_id": "18337259",
                                    "authors": "Daniel Abraham, George R.R. Martin, Tommy Patterson",
                                    "title": "A Game of Thrones: Comic Book, Issue 1",
                                    "average_rating": "4.65"
                                },
                                {
                                    "tag_id": "20939",
                                    "best_book_id": "23753",
                                    "authors": "Neil Gaiman, Mike Dringenberg, Chris Bachalo, Michael Zulli, Kelly Jones, Charles Vess, Colleen Doran, Malcolm Jones III, Steve Parkhouse, Daniel Vozzo, Lee Loughridge, Steve Oliff, Todd Klein, Dave McKean, Sam Kieth",
                                    "title": "The Absolute Sandman, Volume One",
                                    "average_rating": "4.65"
                                },
                                {
                                    "tag_id": "20939",
                                    "best_book_id": "12177850",
                                    "authors": "George R.R. Martin",
                                    "title": "A Song of Ice and Fire (A Song of Ice and Fire, #1-5)",
                                    "average_rating": "4.63"
                                },
                                {
                                    "tag_id": "20939",
                                    "best_book_id": "22299763",
                                    "authors": "Leigh Bardugo",
                                    "title": "Crooked Kingdom (Six of Crows, #2)",
                                    "average_rating": "4.62"
                                },
                                {
                                    "tag_id": "20939",
                                    "best_book_id": "136251",
                                    "authors": "J.K. Rowling, Mary GrandPré",
                                    "title": "Harry Potter and the Deathly Hallows (Harry Potter, #7)",
                                    "average_rating": "4.61"
                                },
                                {
                                    "tag_id": "20939",
                                    "best_book_id": "18335634",
                                    "authors": "Cassandra Clare",
                                    "title": "Clockwork Princess (The Infernal Devices, #3)",
                                    "average_rating": "4.59"
                                },
                                {
                                    "tag_id": "20939",
                                    "best_book_id": "11106458",
                                    "authors": "Cassandra Clare",
                                    "title": "The Mortal Instruments (The Mortal Instruments #1-4)",
                                    "average_rating": "4.59"
                                },
                                {
                                    "tag_id": "20939",
                                    "best_book_id": "892295",
                                    "authors": "Arthur Conan Doyle, William S. Baring-Gould",
                                    "title": "The Annotated Sherlock Holmes: The Four Novels and the Fifty-Six Short Stories Complete (2 Volume Set)",
                                    "average_rating": "4.58"
                                },
                                {
                                    "tag_id": "20939",
                                    "best_book_id": "17333174",
                                    "authors": "Ilona Andrews",
                                    "title": "Magic Binds (Kate Daniels, #9)",
                                    "average_rating": "4.57"
                                },
                                {
                                    "tag_id": "20939",
                                    "best_book_id": "1317181",
                                    "authors": "J.K. Rowling",
                                    "title": "Harry Potter and the Order of the Phoenix (Harry Potter, #5, Part 1)",
                                    "average_rating": "4.56"
                                },
                                {
                                    "tag_id": "20939",
                                    "best_book_id": "29236299",
                                    "authors": "Amie Kaufman, Jay Kristoff, Marie Lu",
                                    "title": "Gemina (The Illuminae Files, #2)",
                                    "average_rating": "4.56"
                                },
                                {
                                    "tag_id": "20939",
                                    "best_book_id": "19486421",
                                    "authors": "Jim Butcher",
                                    "title": "Skin Game (The Dresden Files, #15)",
                                    "average_rating": "4.55"
                                },
                                {
                                    "tag_id": "20939",
                                    "best_book_id": "13184992",
                                    "authors": "Kristen Ashley",
                                    "title": "Rock Chick Regret (Rock Chick, #7)",
                                    "average_rating": "4.55"
                                },
                                {
                                    "tag_id": "20939",
                                    "best_book_id": "71823",
                                    "authors": "Stephen King",
                                    "title": "The Green Mile, Part 6: Coffey on the Mile",
                                    "average_rating": "4.55"
                                },
                                {
                                    "tag_id": "20939",
                                    "best_book_id": "1",
                                    "authors": "J.K. Rowling, Mary GrandPré",
                                    "title": "Harry Potter and the Half-Blood Prince (Harry Potter, #6)",
                                    "average_rating": "4.54"
                                },
                                {
                                    "tag_id": "20939",
                                    "best_book_id": "6585201",
                                    "authors": "Jim Butcher",
                                    "title": "Changes (The Dresden Files, #12)",
                                    "average_rating": "4.54"
                                },
                                {
                                    "tag_id": "20939",
                                    "best_book_id": "6",
                                    "authors": "J.K. Rowling, Mary GrandPré",
                                    "title": "Harry Potter and the Goblet of Fire (Harry Potter, #4)",
                                    "average_rating": "4.53"
                                }
                            ]
                        },
                        "text/html": [
                            "<table>",
                            "<tr><th>tag_id</th><th>best_book_id</th><th>authors</th><th>title</th><th>average_rating</th></tr>",
                            "<tr><td>20939</td><td>8</td><td>J.K. Rowling, Mary GrandPré</td><td>Harry Potter Boxed Set, Books 1-5 (Harry Potter, #1-5)</td><td>4.77</td></tr>",
                            "<tr><td>20939</td><td>862041</td><td>J.K. Rowling</td><td>Harry Potter Boxset (Harry Potter, #1-7)</td><td>4.74</td></tr>",
                            "<tr><td>20939</td><td>10</td><td>J.K. Rowling</td><td>Harry Potter Collection (Harry Potter, #1-6)</td><td>4.73</td></tr>",
                            "<tr><td>20939</td><td>18337259</td><td>Daniel Abraham, George R.R. Martin, Tommy Patterson</td><td>A Game of Thrones: Comic Book, Issue 1</td><td>4.65</td></tr>",
                            "<tr><td>20939</td><td>23753</td><td>Neil Gaiman, Mike Dringenberg, Chris Bachalo, Michael Zulli, Kelly Jones, Charles Vess, Colleen Doran, Malcolm Jones III, Steve Parkhouse, Daniel Vozzo, Lee Loughridge, Steve Oliff, Todd Klein, Dave McKean, Sam Kieth</td><td>The Absolute Sandman, Volume One</td><td>4.65</td></tr>",
                            "<tr><td>20939</td><td>12177850</td><td>George R.R. Martin</td><td>A Song of Ice and Fire (A Song of Ice and Fire, #1-5)</td><td>4.63</td></tr>",
                            "<tr><td>20939</td><td>22299763</td><td>Leigh Bardugo</td><td>Crooked Kingdom (Six of Crows, #2)</td><td>4.62</td></tr>",
                            "<tr><td>20939</td><td>136251</td><td>J.K. Rowling, Mary GrandPré</td><td>Harry Potter and the Deathly Hallows (Harry Potter, #7)</td><td>4.61</td></tr>",
                            "<tr><td>20939</td><td>18335634</td><td>Cassandra Clare</td><td>Clockwork Princess (The Infernal Devices, #3)</td><td>4.59</td></tr>",
                            "<tr><td>20939</td><td>11106458</td><td>Cassandra Clare</td><td>The Mortal Instruments (The Mortal Instruments #1-4)</td><td>4.59</td></tr>",
                            "<tr><td>20939</td><td>892295</td><td>Arthur Conan Doyle, William S. Baring-Gould</td><td>The Annotated Sherlock Holmes: The Four Novels and the Fifty-Six Short Stories Complete (2 Volume Set)</td><td>4.58</td></tr>",
                            "<tr><td>20939</td><td>17333174</td><td>Ilona Andrews</td><td>Magic Binds (Kate Daniels, #9)</td><td>4.57</td></tr>",
                            "<tr><td>20939</td><td>1317181</td><td>J.K. Rowling</td><td>Harry Potter and the Order of the Phoenix (Harry Potter, #5, Part 1)</td><td>4.56</td></tr>",
                            "<tr><td>20939</td><td>29236299</td><td>Amie Kaufman, Jay Kristoff, Marie Lu</td><td>Gemina (The Illuminae Files, #2)</td><td>4.56</td></tr>",
                            "<tr><td>20939</td><td>19486421</td><td>Jim Butcher</td><td>Skin Game (The Dresden Files, #15)</td><td>4.55</td></tr>",
                            "<tr><td>20939</td><td>13184992</td><td>Kristen Ashley</td><td>Rock Chick Regret (Rock Chick, #7)</td><td>4.55</td></tr>",
                            "<tr><td>20939</td><td>71823</td><td>Stephen King</td><td>The Green Mile, Part 6: Coffey on the Mile</td><td>4.55</td></tr>",
                            "<tr><td>20939</td><td>1</td><td>J.K. Rowling, Mary GrandPré</td><td>Harry Potter and the Half-Blood Prince (Harry Potter, #6)</td><td>4.54</td></tr>",
                            "<tr><td>20939</td><td>6585201</td><td>Jim Butcher</td><td>Changes (The Dresden Files, #12)</td><td>4.54</td></tr>",
                            "<tr><td>20939</td><td>6</td><td>J.K. Rowling, Mary GrandPré</td><td>Harry Potter and the Goblet of Fire (Harry Potter, #4)</td><td>4.53</td></tr>",
                            "</table>"
                        ]
                    }
                }
            ],
            "execution_count": 14
        },
        {
            "cell_type": "markdown",
            "source": [
                "### **Summary of event 1:**\n",
                "\n",
                "Double Click to edit."
            ],
            "metadata": {
                "azdata_cell_guid": "3bc72d4c-077b-42d3-9528-9aff8e7b6cf3"
            },
            "attachments": {}
        },
        {
            "cell_type": "code",
            "source": [
                "-- Event 2 Query\n",
                "SELECT t.tag_id, t.tag_name, SUM(bt.[count]) AS number_of_tags\n",
                "FROM BooksDB.dbo.tags as t \n",
                "INNER JOIN BooksDB.dbo.book_tags as bt \n",
                "ON t.tag_id=bt.tag_id\n",
                "GROUP BY t.tag_id, t.tag_name\n",
                "HAVING t.tag_name LIKE '%bike%'\n",
                "    OR t.tag_name LIKE '%cycle%'\n",
                "ORDER BY number_of_tags DESC"
            ],
            "metadata": {
                "azdata_cell_guid": "dca0a98f-065f-4b0e-9d93-fcb01cad668c",
                "language": "sql",
                "tags": []
            },
            "outputs": [
                {
                    "output_type": "display_data",
                    "data": {
                        "text/html": "(41 rows affected)"
                    },
                    "metadata": {}
                },
                {
                    "output_type": "display_data",
                    "data": {
                        "text/html": "Total execution time: 00:00:00.428"
                    },
                    "metadata": {}
                },
                {
                    "output_type": "execute_result",
                    "metadata": {},
                    "execution_count": 17,
                    "data": {
                        "application/vnd.dataresource+json": {
                            "schema": {
                                "fields": [
                                    {
                                        "name": "tag_id"
                                    },
                                    {
                                        "name": "tag_name"
                                    },
                                    {
                                        "name": "number_of_tags"
                                    }
                                ]
                            },
                            "data": [
                                {
                                    "tag_id": "4508",
                                    "tag_name": "bikers",
                                    "number_of_tags": "5116"
                                },
                                {
                                    "tag_id": "4503",
                                    "tag_name": "biker",
                                    "number_of_tags": "2609"
                                },
                                {
                                    "tag_id": "20527",
                                    "tag_name": "motorcycle-club",
                                    "number_of_tags": "1174"
                                },
                                {
                                    "tag_id": "15586",
                                    "tag_name": "inheritance-cycle",
                                    "number_of_tags": "750"
                                },
                                {
                                    "tag_id": "20526",
                                    "tag_name": "motorcycle",
                                    "number_of_tags": "510"
                                },
                                {
                                    "tag_id": "4507",
                                    "tag_name": "biker-romance",
                                    "number_of_tags": "445"
                                },
                                {
                                    "tag_id": "29868",
                                    "tag_name": "the-inheritance-cycle",
                                    "number_of_tags": "439"
                                },
                                {
                                    "tag_id": "4504",
                                    "tag_name": "biker-books",
                                    "number_of_tags": "308"
                                },
                                {
                                    "tag_id": "30047",
                                    "tag_name": "the-raven-cycle",
                                    "number_of_tags": "302"
                                },
                                {
                                    "tag_id": "4506",
                                    "tag_name": "biker-mc",
                                    "number_of_tags": "288"
                                },
                                {
                                    "tag_id": "20528",
                                    "tag_name": "motorcycle-clubs",
                                    "number_of_tags": "269"
                                },
                                {
                                    "tag_id": "20530",
                                    "tag_name": "motorcycles",
                                    "number_of_tags": "253"
                                },
                                {
                                    "tag_id": "3797",
                                    "tag_name": "badass-bikers",
                                    "number_of_tags": "252"
                                },
                                {
                                    "tag_id": "9264",
                                    "tag_name": "demon-cycle",
                                    "number_of_tags": "252"
                                },
                                {
                                    "tag_id": "20529",
                                    "tag_name": "motorcycle-men",
                                    "number_of_tags": "242"
                                },
                                {
                                    "tag_id": "4509",
                                    "tag_name": "bikers-mc",
                                    "number_of_tags": "227"
                                },
                                {
                                    "tag_id": "25924",
                                    "tag_name": "riftwar-cycle",
                                    "number_of_tags": "219"
                                },
                                {
                                    "tag_id": "9152",
                                    "tag_name": "death-gate-cycle",
                                    "number_of_tags": "213"
                                },
                                {
                                    "tag_id": "19551",
                                    "tag_name": "mc-biker",
                                    "number_of_tags": "213"
                                },
                                {
                                    "tag_id": "10153",
                                    "tag_name": "earthsea-cycle",
                                    "number_of_tags": "149"
                                },
                                {
                                    "tag_id": "29748",
                                    "tag_name": "the-death-gate-cycle",
                                    "number_of_tags": "114"
                                },
                                {
                                    "tag_id": "14899",
                                    "tag_name": "hot-bikers",
                                    "number_of_tags": "113"
                                },
                                {
                                    "tag_id": "4505",
                                    "tag_name": "biker-boys",
                                    "number_of_tags": "97"
                                },
                                {
                                    "tag_id": "3780",
                                    "tag_name": "bad-ass-bikers",
                                    "number_of_tags": "91"
                                },
                                {
                                    "tag_id": "19552",
                                    "tag_name": "mc-bikers",
                                    "number_of_tags": "64"
                                },
                                {
                                    "tag_id": "3939",
                                    "tag_name": "baroque-cycle",
                                    "number_of_tags": "45"
                                },
                                {
                                    "tag_id": "9161",
                                    "tag_name": "deathgate-cycle",
                                    "number_of_tags": "45"
                                },
                                {
                                    "tag_id": "30063",
                                    "tag_name": "the-riftwar-cycle",
                                    "number_of_tags": "40"
                                },
                                {
                                    "tag_id": "8758",
                                    "tag_name": "cycle",
                                    "number_of_tags": "40"
                                },
                                {
                                    "tag_id": "18144",
                                    "tag_name": "life-cycle",
                                    "number_of_tags": "35"
                                },
                                {
                                    "tag_id": "29751",
                                    "tag_name": "the-demon-cycle",
                                    "number_of_tags": "29"
                                },
                                {
                                    "tag_id": "4477",
                                    "tag_name": "bicycles",
                                    "number_of_tags": "19"
                                },
                                {
                                    "tag_id": "4510",
                                    "tag_name": "bikes",
                                    "number_of_tags": "13"
                                },
                                {
                                    "tag_id": "23220",
                                    "tag_name": "pendragon-cycle",
                                    "number_of_tags": "11"
                                },
                                {
                                    "tag_id": "3784",
                                    "tag_name": "bad-boy-bikers",
                                    "number_of_tags": "9"
                                },
                                {
                                    "tag_id": "30144",
                                    "tag_name": "the-traitor-son-cycle",
                                    "number_of_tags": "9"
                                },
                                {
                                    "tag_id": "1712",
                                    "tag_name": "adversary-cycle",
                                    "number_of_tags": "6"
                                },
                                {
                                    "tag_id": "30008",
                                    "tag_name": "the-pendragon-cycle",
                                    "number_of_tags": "5"
                                },
                                {
                                    "tag_id": "9265",
                                    "tag_name": "demon-cycle-series",
                                    "number_of_tags": "4"
                                },
                                {
                                    "tag_id": "4476",
                                    "tag_name": "bicycle",
                                    "number_of_tags": "4"
                                },
                                {
                                    "tag_id": "27291",
                                    "tag_name": "series-riftwar-cycle",
                                    "number_of_tags": "3"
                                }
                            ]
                        },
                        "text/html": [
                            "<table>",
                            "<tr><th>tag_id</th><th>tag_name</th><th>number_of_tags</th></tr>",
                            "<tr><td>4508</td><td>bikers</td><td>5116</td></tr>",
                            "<tr><td>4503</td><td>biker</td><td>2609</td></tr>",
                            "<tr><td>20527</td><td>motorcycle-club</td><td>1174</td></tr>",
                            "<tr><td>15586</td><td>inheritance-cycle</td><td>750</td></tr>",
                            "<tr><td>20526</td><td>motorcycle</td><td>510</td></tr>",
                            "<tr><td>4507</td><td>biker-romance</td><td>445</td></tr>",
                            "<tr><td>29868</td><td>the-inheritance-cycle</td><td>439</td></tr>",
                            "<tr><td>4504</td><td>biker-books</td><td>308</td></tr>",
                            "<tr><td>30047</td><td>the-raven-cycle</td><td>302</td></tr>",
                            "<tr><td>4506</td><td>biker-mc</td><td>288</td></tr>",
                            "<tr><td>20528</td><td>motorcycle-clubs</td><td>269</td></tr>",
                            "<tr><td>20530</td><td>motorcycles</td><td>253</td></tr>",
                            "<tr><td>3797</td><td>badass-bikers</td><td>252</td></tr>",
                            "<tr><td>9264</td><td>demon-cycle</td><td>252</td></tr>",
                            "<tr><td>20529</td><td>motorcycle-men</td><td>242</td></tr>",
                            "<tr><td>4509</td><td>bikers-mc</td><td>227</td></tr>",
                            "<tr><td>25924</td><td>riftwar-cycle</td><td>219</td></tr>",
                            "<tr><td>9152</td><td>death-gate-cycle</td><td>213</td></tr>",
                            "<tr><td>19551</td><td>mc-biker</td><td>213</td></tr>",
                            "<tr><td>10153</td><td>earthsea-cycle</td><td>149</td></tr>",
                            "<tr><td>29748</td><td>the-death-gate-cycle</td><td>114</td></tr>",
                            "<tr><td>14899</td><td>hot-bikers</td><td>113</td></tr>",
                            "<tr><td>4505</td><td>biker-boys</td><td>97</td></tr>",
                            "<tr><td>3780</td><td>bad-ass-bikers</td><td>91</td></tr>",
                            "<tr><td>19552</td><td>mc-bikers</td><td>64</td></tr>",
                            "<tr><td>3939</td><td>baroque-cycle</td><td>45</td></tr>",
                            "<tr><td>9161</td><td>deathgate-cycle</td><td>45</td></tr>",
                            "<tr><td>30063</td><td>the-riftwar-cycle</td><td>40</td></tr>",
                            "<tr><td>8758</td><td>cycle</td><td>40</td></tr>",
                            "<tr><td>18144</td><td>life-cycle</td><td>35</td></tr>",
                            "<tr><td>29751</td><td>the-demon-cycle</td><td>29</td></tr>",
                            "<tr><td>4477</td><td>bicycles</td><td>19</td></tr>",
                            "<tr><td>4510</td><td>bikes</td><td>13</td></tr>",
                            "<tr><td>23220</td><td>pendragon-cycle</td><td>11</td></tr>",
                            "<tr><td>3784</td><td>bad-boy-bikers</td><td>9</td></tr>",
                            "<tr><td>30144</td><td>the-traitor-son-cycle</td><td>9</td></tr>",
                            "<tr><td>1712</td><td>adversary-cycle</td><td>6</td></tr>",
                            "<tr><td>30008</td><td>the-pendragon-cycle</td><td>5</td></tr>",
                            "<tr><td>9265</td><td>demon-cycle-series</td><td>4</td></tr>",
                            "<tr><td>4476</td><td>bicycle</td><td>4</td></tr>",
                            "<tr><td>27291</td><td>series-riftwar-cycle</td><td>3</td></tr>",
                            "</table>"
                        ]
                    }
                }
            ],
            "execution_count": 17
        },
        {
            "cell_type": "code",
            "source": [
                "SELECT TOP 20 bt.tag_id, b.best_book_id, b.authors, b.title, b.average_rating\n",
                "FROM BooksDB.dbo.book_tags as bt \n",
                "INNER JOIN BooksDB.dbo.books as b\n",
                "ON bt.goodreads_book_id=b.best_book_id\n",
                "WHERE bt.tag_id=4508\n",
                "ORDER BY b.average_rating DESC"
            ],
            "metadata": {
                "azdata_cell_guid": "3aaae3a8-eff7-4b37-8970-2d913a67239b",
                "language": "sql"
            },
            "outputs": [
                {
                    "output_type": "display_data",
                    "data": {
                        "text/html": "(20 rows affected)"
                    },
                    "metadata": {}
                },
                {
                    "output_type": "display_data",
                    "data": {
                        "text/html": "Total execution time: 00:00:00.157"
                    },
                    "metadata": {}
                },
                {
                    "output_type": "execute_result",
                    "metadata": {},
                    "execution_count": 19,
                    "data": {
                        "application/vnd.dataresource+json": {
                            "schema": {
                                "fields": [
                                    {
                                        "name": "tag_id"
                                    },
                                    {
                                        "name": "best_book_id"
                                    },
                                    {
                                        "name": "authors"
                                    },
                                    {
                                        "name": "title"
                                    },
                                    {
                                        "name": "average_rating"
                                    }
                                ]
                            },
                            "data": [
                                {
                                    "tag_id": "4508",
                                    "best_book_id": "10813469",
                                    "authors": "Kristen Ashley",
                                    "title": "Rock Chick Renegade (Rock Chick, #4)",
                                    "average_rating": "4.46"
                                },
                                {
                                    "tag_id": "4508",
                                    "best_book_id": "23341855",
                                    "authors": "Kristen Ashley",
                                    "title": "Ride Steady (Chaos, #3)",
                                    "average_rating": "4.45"
                                },
                                {
                                    "tag_id": "4508",
                                    "best_book_id": "13448656",
                                    "authors": "Kristen Ashley",
                                    "title": "Motorcycle Man (Dream Man, #4)",
                                    "average_rating": "4.43"
                                },
                                {
                                    "tag_id": "4508",
                                    "best_book_id": "11227040",
                                    "authors": "Kristen Ashley",
                                    "title": "Sweet Dreams (Colorado Mountain, #2)",
                                    "average_rating": "4.42"
                                },
                                {
                                    "tag_id": "4508",
                                    "best_book_id": "25711641",
                                    "authors": "T.M. Frazier",
                                    "title": "Tyrant (King, #2)",
                                    "average_rating": "4.39"
                                },
                                {
                                    "tag_id": "4508",
                                    "best_book_id": "16114861",
                                    "authors": "Madeline Sheehan",
                                    "title": "Unbeautifully (Undeniable, #2)",
                                    "average_rating": "4.38"
                                },
                                {
                                    "tag_id": "4508",
                                    "best_book_id": "17257990",
                                    "authors": "Kristen Ashley",
                                    "title": "Fire Inside (Chaos, #2)",
                                    "average_rating": "4.33"
                                },
                                {
                                    "tag_id": "4508",
                                    "best_book_id": "13412515",
                                    "authors": "Kristen Ashley",
                                    "title": "Law Man (Dream Man, #3)",
                                    "average_rating": "4.33"
                                },
                                {
                                    "tag_id": "4508",
                                    "best_book_id": "16114862",
                                    "authors": "Madeline Sheehan",
                                    "title": "Unattainable (Undeniable, #3)",
                                    "average_rating": "4.31"
                                },
                                {
                                    "tag_id": "4508",
                                    "best_book_id": "18693621",
                                    "authors": "Joanna Wylde",
                                    "title": "Devil's Game (Reapers MC, #3)",
                                    "average_rating": "4.3"
                                },
                                {
                                    "tag_id": "4508",
                                    "best_book_id": "18076876",
                                    "authors": "Joanna Wylde",
                                    "title": "Reaper's Legacy (Reapers MC, #2)",
                                    "average_rating": "4.27"
                                },
                                {
                                    "tag_id": "4508",
                                    "best_book_id": "12299419",
                                    "authors": "Kristen Ashley",
                                    "title": "Mystery Man (Dream Man, #1)",
                                    "average_rating": "4.25"
                                },
                                {
                                    "tag_id": "4508",
                                    "best_book_id": "16090636",
                                    "authors": "Kristen Proby",
                                    "title": "Fight with Me (With Me in Seattle, #2)",
                                    "average_rating": "4.25"
                                },
                                {
                                    "tag_id": "4508",
                                    "best_book_id": "18739485",
                                    "authors": "T.M. Frazier",
                                    "title": "King (King, #1)",
                                    "average_rating": "4.24"
                                },
                                {
                                    "tag_id": "4508",
                                    "best_book_id": "22020052",
                                    "authors": "Tillie Cole",
                                    "title": "It Ain't Me, Babe (Hades Hangmen, #1)",
                                    "average_rating": "4.22"
                                },
                                {
                                    "tag_id": "4508",
                                    "best_book_id": "16163690",
                                    "authors": "Kristen Ashley",
                                    "title": "Own the Wind (Chaos, #1)",
                                    "average_rating": "4.22"
                                },
                                {
                                    "tag_id": "4508",
                                    "best_book_id": "12881141",
                                    "authors": "Kristen Ashley",
                                    "title": "Wild Man (Dream Man, #2)",
                                    "average_rating": "4.21"
                                },
                                {
                                    "tag_id": "4508",
                                    "best_book_id": "17375956",
                                    "authors": "Joanna Wylde",
                                    "title": "Reaper's Property (Reapers MC, #1)",
                                    "average_rating": "4.13"
                                },
                                {
                                    "tag_id": "4508",
                                    "best_book_id": "20613920",
                                    "authors": "Mariana Zapata",
                                    "title": "Under Locke",
                                    "average_rating": "4.11"
                                },
                                {
                                    "tag_id": "4508",
                                    "best_book_id": "16109563",
                                    "authors": "Madeline Sheehan",
                                    "title": "Undeniable (Undeniable, #1)",
                                    "average_rating": "4.08"
                                }
                            ]
                        },
                        "text/html": [
                            "<table>",
                            "<tr><th>tag_id</th><th>best_book_id</th><th>authors</th><th>title</th><th>average_rating</th></tr>",
                            "<tr><td>4508</td><td>10813469</td><td>Kristen Ashley</td><td>Rock Chick Renegade (Rock Chick, #4)</td><td>4.46</td></tr>",
                            "<tr><td>4508</td><td>23341855</td><td>Kristen Ashley</td><td>Ride Steady (Chaos, #3)</td><td>4.45</td></tr>",
                            "<tr><td>4508</td><td>13448656</td><td>Kristen Ashley</td><td>Motorcycle Man (Dream Man, #4)</td><td>4.43</td></tr>",
                            "<tr><td>4508</td><td>11227040</td><td>Kristen Ashley</td><td>Sweet Dreams (Colorado Mountain, #2)</td><td>4.42</td></tr>",
                            "<tr><td>4508</td><td>25711641</td><td>T.M. Frazier</td><td>Tyrant (King, #2)</td><td>4.39</td></tr>",
                            "<tr><td>4508</td><td>16114861</td><td>Madeline Sheehan</td><td>Unbeautifully (Undeniable, #2)</td><td>4.38</td></tr>",
                            "<tr><td>4508</td><td>17257990</td><td>Kristen Ashley</td><td>Fire Inside (Chaos, #2)</td><td>4.33</td></tr>",
                            "<tr><td>4508</td><td>13412515</td><td>Kristen Ashley</td><td>Law Man (Dream Man, #3)</td><td>4.33</td></tr>",
                            "<tr><td>4508</td><td>16114862</td><td>Madeline Sheehan</td><td>Unattainable (Undeniable, #3)</td><td>4.31</td></tr>",
                            "<tr><td>4508</td><td>18693621</td><td>Joanna Wylde</td><td>Devil&#39;s Game (Reapers MC, #3)</td><td>4.3</td></tr>",
                            "<tr><td>4508</td><td>18076876</td><td>Joanna Wylde</td><td>Reaper&#39;s Legacy (Reapers MC, #2)</td><td>4.27</td></tr>",
                            "<tr><td>4508</td><td>12299419</td><td>Kristen Ashley</td><td>Mystery Man (Dream Man, #1)</td><td>4.25</td></tr>",
                            "<tr><td>4508</td><td>16090636</td><td>Kristen Proby</td><td>Fight with Me (With Me in Seattle, #2)</td><td>4.25</td></tr>",
                            "<tr><td>4508</td><td>18739485</td><td>T.M. Frazier</td><td>King (King, #1)</td><td>4.24</td></tr>",
                            "<tr><td>4508</td><td>22020052</td><td>Tillie Cole</td><td>It Ain&#39;t Me, Babe (Hades Hangmen, #1)</td><td>4.22</td></tr>",
                            "<tr><td>4508</td><td>16163690</td><td>Kristen Ashley</td><td>Own the Wind (Chaos, #1)</td><td>4.22</td></tr>",
                            "<tr><td>4508</td><td>12881141</td><td>Kristen Ashley</td><td>Wild Man (Dream Man, #2)</td><td>4.21</td></tr>",
                            "<tr><td>4508</td><td>17375956</td><td>Joanna Wylde</td><td>Reaper&#39;s Property (Reapers MC, #1)</td><td>4.13</td></tr>",
                            "<tr><td>4508</td><td>20613920</td><td>Mariana Zapata</td><td>Under Locke</td><td>4.11</td></tr>",
                            "<tr><td>4508</td><td>16109563</td><td>Madeline Sheehan</td><td>Undeniable (Undeniable, #1)</td><td>4.08</td></tr>",
                            "</table>"
                        ]
                    }
                }
            ],
            "execution_count": 19
        },
        {
            "cell_type": "markdown",
            "source": [
                "### **Summary of event 2:**\n",
                "\n",
                "Double Click to edit."
            ],
            "metadata": {
                "azdata_cell_guid": "99d518dc-cd8b-42d6-9a9d-708771c9aa99"
            },
            "attachments": {}
        }
    ]
}